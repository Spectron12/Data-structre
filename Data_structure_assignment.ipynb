{
  "nbformat": 4,
  "nbformat_minor": 0,
  "metadata": {
    "colab": {
      "provenance": []
    },
    "kernelspec": {
      "name": "python3",
      "display_name": "Python 3"
    },
    "language_info": {
      "name": "python"
    }
  },
  "cells": [
    {
      "cell_type": "markdown",
      "source": [
        "# **Data structure assignment**"
      ],
      "metadata": {
        "id": "Iyf36wrIInnh"
      }
    },
    {
      "cell_type": "markdown",
      "source": [
        "#  **Theory questions**"
      ],
      "metadata": {
        "id": "CFdW7V0rJB0R"
      }
    },
    {
      "cell_type": "markdown",
      "source": [
        "1.What are data structures, and why are they important?\n",
        "- Data structures are ways to organize and store data in a computer so it can be used efficiently. Examples include arrays, linked lists, stacks, queues, and trees.\n",
        "\n",
        "They are important because they help in managing large amounts of data, improving performance, and optimizing algorithms. Choosing the right data structure can make a big difference in speed and memory usage."
      ],
      "metadata": {
        "id": "QGlik6YDJ6yh"
      }
    },
    {
      "cell_type": "markdown",
      "source": [
        "2.Explain the difference between mutable and immutable data types with examples.\n",
        "- Mutable data types can be changed after creation, while immutable ones cannot.\n"
      ],
      "metadata": {
        "id": "h2lVnWT8KC-A"
      }
    },
    {
      "cell_type": "code",
      "source": [
        "my_list = [1, 2, 3]\n",
        "my_list.append(4)  # Changes the list\n",
        "print(my_list)  # Output: [1, 2, 3, 4]\n"
      ],
      "metadata": {
        "colab": {
          "base_uri": "https://localhost:8080/"
        },
        "id": "MdPqHDjTKY3o",
        "outputId": "5fc752b9-49ab-4499-d815-1c7ba5c25168"
      },
      "execution_count": 1,
      "outputs": [
        {
          "output_type": "stream",
          "name": "stdout",
          "text": [
            "[1, 2, 3, 4]\n"
          ]
        }
      ]
    },
    {
      "cell_type": "code",
      "source": [
        "text = \"hello\"\n",
        "text += \" world\"  # Creates a new string, doesn’t modify the original\n",
        "print(text)  # Output: \"hello world\"\n"
      ],
      "metadata": {
        "colab": {
          "base_uri": "https://localhost:8080/"
        },
        "id": "W3Ip_sqlKepY",
        "outputId": "569ab036-660b-43d1-876b-3fbf439b0d58"
      },
      "execution_count": 2,
      "outputs": [
        {
          "output_type": "stream",
          "name": "stdout",
          "text": [
            "hello world\n"
          ]
        }
      ]
    },
    {
      "cell_type": "markdown",
      "source": [
        "3. What are the main differences between lists and tuples in Python?\n",
        "\n",
        "-\n",
        "\n",
        "  *  Mutability: Lists are mutable (can be changed), while tuples are immutable (cannot be changed).\n",
        "  * Syntax: Lists use square brackets [], while tuples use parentheses ().\n",
        "  * Performance: Tuples are faster and use less memory than lists because they are fixed in size.\n",
        "  * Use Case: Lists are used for dynamic data, while tuples are good for fixed, read-only data.  \n",
        "  * Methods: Lists have more built-in methods (like .append() and .remove()), whereas tuples have limited methods (.count() and .index())."
      ],
      "metadata": {
        "id": "QMTTDOMyKlyI"
      }
    },
    {
      "cell_type": "markdown",
      "source": [
        "4.  Describe how dictionaries store data.\n",
        "- Dictionaries store data as key-value pairs, allowing quick lookups.\n",
        "\n",
        "They use a hash table internally, where keys are hashed to find their storage location. This makes retrieving values very fast, usually O(1) time complexity"
      ],
      "metadata": {
        "id": "uCMRnb2QLayx"
      }
    },
    {
      "cell_type": "markdown",
      "source": [
        "5.  Why might you use a set instead of a list in Python?\n",
        "* **Uniqueness**: Sets store only unique elements, automatically removing duplicates.\n",
        "\n",
        "* **Faster Lookups**: Checking if an item exists in a set is O(1), while in a list, it's O(n).\n",
        "\n",
        "* **Mathematical Operations**: Sets support operations like union, intersection, and difference.\n",
        "\n",
        "* **Unordered Collection**: Unlike lists, sets don’t maintain order, which might be useful for some use cases.\n",
        "\n",
        "* **Memory Efficient**: Sets can be more memory-efficient when working with large datasets of unique items."
      ],
      "metadata": {
        "id": "OlHidPpALmvA"
      }
    },
    {
      "cell_type": "markdown",
      "source": [
        "6. What is a string in Python, and how is it different from a list?\n",
        "-\n",
        "A string in Python is a sequence of characters enclosed in quotes, like \"hello\".\n",
        "\n",
        "Differences from a List:\n",
        "* Immutability: Strings cannot be changed after creation, while lists are mutable.\n",
        "\n",
        "* Data Type: Strings hold only characters, whereas lists can hold any data type.\n",
        "\n",
        "* Methods: Strings have text-specific methods like .split(), .replace(), while lists have methods like .append().\n",
        "\n",
        "* Memory Efficiency: Strings are more memory-efficient for text storage compared to lists of characters."
      ],
      "metadata": {
        "id": "ErgZYVDQMH_Z"
      }
    },
    {
      "cell_type": "markdown",
      "source": [
        "7. How do tuples ensure data integrity in Python?\n",
        "- Tuples ensure data integrity by being immutable, meaning their elements cannot be changed after creation.\n",
        "    This prevents accidental modifications, making them ideal for storing constant values. Since tuples are hashable, they can be used as dictionary keys, ensuring reliability in data structures."
      ],
      "metadata": {
        "id": "BpTY9EX2MhtQ"
      }
    },
    {
      "cell_type": "markdown",
      "source": [
        "8.  What is a hash table, and how does it relate to dictionaries in Python?\n",
        "- A hash table is a data structure that stores data in key-value pairs and uses a hash function to compute an index where the value is stored. This allows for fast data retrieval.\n",
        "    In Python, dictionaries are implemented using hash tables. The keys in a dictionary are hashed to determine where the corresponding value should be stored. This makes lookups, insertions, and deletions very efficient, usually occurring in constant time O(1)."
      ],
      "metadata": {
        "id": "tBBBvoHLM9xo"
      }
    },
    {
      "cell_type": "markdown",
      "source": [
        "9. Can lists contain different data types in Python?\n",
        "- Yes, lists can contain different data types in Python. A single list can hold a mix of integers, strings, floats, booleans, and even other lists or objects."
      ],
      "metadata": {
        "id": "uDYwZAZ9NXyw"
      }
    },
    {
      "cell_type": "markdown",
      "source": [
        "10.  Explain why strings are immutable in Python.\n",
        "- Data Integrity: Immutability guarantees that once a string is created, its value cannot be accidentally changed, providing consistency and reliability in programs.\n",
        "\n",
        "- Efficiency: Because strings are immutable, they can be stored more efficiently. Python can reuse memory by pointing to the same string object instead of creating new ones each time it’s modified.\n",
        "\n",
        "- Hashable: Immutability allows strings to be used as dictionary keys, since their value won't change and can be reliably hashed."
      ],
      "metadata": {
        "id": "S8ahjYWrNgXh"
      }
    },
    {
      "cell_type": "markdown",
      "source": [
        "11.  What advantages do dictionaries offer over lists for certain tasks?\n",
        "- Faster Lookups: Accessing a value by its key is O(1) on average, while looking up an item in a list takes O(n) time.\n",
        "\n",
        "- Key-Value Pairing: Dictionaries store data as key-value pairs, making it easier to associate and retrieve values based on a unique identifier (key).\n",
        "\n",
        "- No Duplicates: Unlike lists, dictionaries automatically handle uniqueness for keys, ensuring no duplicate keys.\n",
        "\n",
        "- Efficient Storage: For large datasets where you need quick lookups or need to relate data (e.g., a user’s name to their age), dictionaries are often more efficient."
      ],
      "metadata": {
        "id": "NrlWHNpgNtsg"
      }
    },
    {
      "cell_type": "markdown",
      "source": [
        "12.  Describe a scenario where using a tuple would be preferable over a list.\n",
        "- A scenario where a tuple would be preferable over a list is when you need to store coordinates or constant data that shouldn't change, such as in GPS systems, where precision and immutability are important.\n",
        "    For example, if you're storing the latitude and longitude of a location, you want the data to remain unchanged throughout the program."
      ],
      "metadata": {
        "id": "UikJSj9ETG33"
      }
    },
    {
      "cell_type": "markdown",
      "source": [
        "13.  How do sets handle duplicate values in Python?\n",
        "- Sets automatically remove duplicates. When you try to add a duplicate value, the set will ignore it. This ensures that every element in a set is unique."
      ],
      "metadata": {
        "id": "dVd3WBs-Ta7e"
      }
    },
    {
      "cell_type": "markdown",
      "source": [
        "14.  How does the “in” keyword work differently for lists and dictionaries?\n",
        "- For Lists: It checks if an element exists in the list. It goes through each item in the list to see if it matches the value you're looking for."
      ],
      "metadata": {
        "id": "8p8T7fKHTfIe"
      }
    },
    {
      "cell_type": "code",
      "source": [
        "my_list = [1, 2, 3, 4]\n",
        "print(3 in my_list)  # Output: True\n",
        "print(5 in my_list)  # Output: False\n"
      ],
      "metadata": {
        "colab": {
          "base_uri": "https://localhost:8080/"
        },
        "id": "EGDNGuM1TrR8",
        "outputId": "ce0eba02-6a52-4052-c689-b6d0049b89a2"
      },
      "execution_count": 3,
      "outputs": [
        {
          "output_type": "stream",
          "name": "stdout",
          "text": [
            "True\n",
            "False\n"
          ]
        }
      ]
    },
    {
      "cell_type": "markdown",
      "source": [
        "- For Dictionaries: It checks if a key exists in the dictionary (not the value). If you want to check for a value, you need to use .values()."
      ],
      "metadata": {
        "id": "pw-kFIMeTtOe"
      }
    },
    {
      "cell_type": "code",
      "source": [
        "my_dict = {\"name\": \"Alice\", \"age\": 25}\n",
        "print(\"name\" in my_dict)  # Output: True (checks for the key)\n",
        "print(25 in my_dict)      # Output: False (doesn't check for the value)\n"
      ],
      "metadata": {
        "colab": {
          "base_uri": "https://localhost:8080/"
        },
        "id": "5VKd9jIuTyIO",
        "outputId": "892b5cf0-4cc2-4997-965e-14d8a3ee7f89"
      },
      "execution_count": 4,
      "outputs": [
        {
          "output_type": "stream",
          "name": "stdout",
          "text": [
            "True\n",
            "False\n"
          ]
        }
      ]
    },
    {
      "cell_type": "markdown",
      "source": [
        "15.  Can you modify the elements of a tuple? Explain why or why not?\n",
        "- No, you cannot modify the elements of a tuple because tuples are immutable in Python. Once a tuple is created, its contents cannot be changed, added, or removed. This immutability ensures data integrity, meaning the data stays constant throughout the program."
      ],
      "metadata": {
        "id": "rKINK-Q8T2Te"
      }
    },
    {
      "cell_type": "markdown",
      "source": [
        "16.  What is a nested dictionary, and give an example of its use case?\n",
        "- A nested dictionary is a dictionary where the values themselves are dictionaries. This allows you to represent more complex data structures, like hierarchical relationships, in a key-value format.\n",
        "\n",
        "# **Example Use Case: Storing student records**\n",
        "Imagine you're managing a system for student information, where each student has multiple attributes (like name, age, and grades), and grades are represented as a dictionary."
      ],
      "metadata": {
        "id": "2e8Kxsm8UA1_"
      }
    },
    {
      "cell_type": "code",
      "source": [
        "students = {\n",
        "    \"John\": {\"age\": 21, \"grades\": {\"math\": 85, \"science\": 90}},\n",
        "    \"Alice\": {\"age\": 22, \"grades\": {\"math\": 95, \"science\": 89}},\n",
        "}\n",
        "\n",
        "# Accessing nested values:\n",
        "print(students[\"John\"][\"grades\"][\"math\"])  # Output: 85\n",
        "\n",
        "\n",
        " #In this case, the outer dictionary represents students, and each student's information is stored in an inner dictionary.\n",
        " #This structure is great for modeling complex relationships and making data retrieval more organized."
      ],
      "metadata": {
        "colab": {
          "base_uri": "https://localhost:8080/"
        },
        "id": "iWb7RuDFUREW",
        "outputId": "6bdd7cb9-10fe-4bee-ffb7-ecc5afd33fec"
      },
      "execution_count": 6,
      "outputs": [
        {
          "output_type": "stream",
          "name": "stdout",
          "text": [
            "85\n"
          ]
        }
      ]
    },
    {
      "cell_type": "markdown",
      "source": [
        "17.  Describe the time complexity of accessing elements in a dictionary.\n",
        "- The time complexity of accessing elements in a dictionary is O(1) on average. This means that the lookup time does not depend on the size of the dictiona\n",
        "# **How it works:**\n",
        "Dictionaries use a hash table under the hood, where keys are hashed to find their corresponding values. Since hashing is a direct mapping process, accessing an element by its key typically takes constant time.\n",
        "\n",
        "# **Worst-case scenario:**\n",
        "In rare cases (e.g., hash collisions), the time complexity can degrade to O(n), where n is the number of elements. However, this is uncommon and the average case is O(1)."
      ],
      "metadata": {
        "id": "9E0TQimIUn--"
      }
    },
    {
      "cell_type": "markdown",
      "source": [
        "18. In what situations are lists preferred over dictionaries?\n",
        "- Order Matters: If you need to maintain the order of elements or need to access elements by their index, lists are the better choice since they are ordered and allow indexing.\n",
        "\n",
        "- Duplicate Elements: When you need to store multiple instances of the same value, lists can hold duplicates, whereas dictionaries require keys to be unique.\n",
        "\n",
        "- Simple Data Storage: Lists are suitable for storing homogeneous or simple collections of data, where you don’t need key-value pairing, and the relationship between elements isn’t as important.\n",
        "\n",
        "- Iteration: If you’re iterating through a collection of elements in sequence, lists are easier to work with. They provide straightforward iteration without the need to deal with keys."
      ],
      "metadata": {
        "id": "GFmswlvUU_BX"
      }
    },
    {
      "cell_type": "markdown",
      "source": [
        "19.  Why are dictionaries considered unordered, and how does that affect data retrieval?\n",
        "- Dictionaries are considered unordered because, before Python 3.7, the order in which items were stored wasn't guaranteed. They were designed to store data as key-value pairs, where the main goal was quick access to values based on keys, not the order of the data.\n",
        "\n",
        "    However, since Python 3.7, dictionaries do maintain insertion order, meaning they remember the order in which items are added. But that doesn't change the fact that retrieval by key is still O(1), so it's super fast, regardless of the order.\n",
        "\n",
        "    So, while you can rely on the order in newer Python versions when iterating over the dictionary, the dictionary's main purpose is to provide efficient key-based lookups, not to manage the order of elements."
      ],
      "metadata": {
        "id": "-9jMnObAVa0G"
      }
    },
    {
      "cell_type": "markdown",
      "source": [
        "20. Explain the difference between a list and a dictionary in terms of data retrieval.\n",
        "**List:**\n",
        "\n",
        "* Data is accessed by index, which is an integer position in the list.\n",
        "* Retrieval is slower, especially for large lists, because you have to go through each element to find the one you want (O(n) time complexity).\n",
        "\n",
        "**Dictionary:**\n",
        "\n",
        "* Data is accessed by key (which can be any immutable type like a string or number).\n",
        "* Retrieval is faster (O(1) time complexity on average) because dictionaries use a hash table to directly map keys to values."
      ],
      "metadata": {
        "id": "v3Sr1JGqV8Oe"
      }
    },
    {
      "cell_type": "markdown",
      "source": [
        "# **Practical Question**"
      ],
      "metadata": {
        "id": "R-AUFGLuWSJG"
      }
    },
    {
      "cell_type": "code",
      "source": [
        "#1.  Write a code to create a string with your name and print it.\n",
        "my_name = \"Debojyoti Ghosh \"\n",
        "print(type (my_name))\n",
        "print(my_name)"
      ],
      "metadata": {
        "colab": {
          "base_uri": "https://localhost:8080/"
        },
        "id": "phD3kO75WmHH",
        "outputId": "edb8d6e1-6bdc-4c67-ea85-1a96fed4b4c8"
      },
      "execution_count": 9,
      "outputs": [
        {
          "output_type": "stream",
          "name": "stdout",
          "text": [
            "<class 'str'>\n",
            "Debojyoti Ghosh \n"
          ]
        }
      ]
    },
    {
      "cell_type": "code",
      "source": [
        "#2.Write a code to find the length of the string \"Hello World\"\n",
        "text= \"Hello World\"\n",
        "print(len(text))"
      ],
      "metadata": {
        "colab": {
          "base_uri": "https://localhost:8080/"
        },
        "id": "MvjNI6f7XLN-",
        "outputId": "9ace48b4-784d-49e4-8680-5214bb253b0d"
      },
      "execution_count": 11,
      "outputs": [
        {
          "output_type": "stream",
          "name": "stdout",
          "text": [
            "11\n"
          ]
        }
      ]
    },
    {
      "cell_type": "code",
      "source": [
        "#3.Write a code to slice the first 3 characters from the string \"Python Programming\"\n",
        "a= \"Python Programming\"\n",
        "print(a[0:3])"
      ],
      "metadata": {
        "colab": {
          "base_uri": "https://localhost:8080/"
        },
        "id": "rxmAzRbDXcm-",
        "outputId": "13f50609-95da-412d-e237-b880d6a266ac"
      },
      "execution_count": 12,
      "outputs": [
        {
          "output_type": "stream",
          "name": "stdout",
          "text": [
            "Pyt\n"
          ]
        }
      ]
    },
    {
      "cell_type": "code",
      "source": [
        "#4. Write a code to convert the string \"hello\" to uppercase\n",
        "a = 'hello'\n",
        "upper_case= a.upper()\n",
        "print(upper_case)"
      ],
      "metadata": {
        "colab": {
          "base_uri": "https://localhost:8080/"
        },
        "id": "6XSG4_uVXv6m",
        "outputId": "4ce0ed9f-d892-4d8b-b37d-77ee95884c8a"
      },
      "execution_count": 14,
      "outputs": [
        {
          "output_type": "stream",
          "name": "stdout",
          "text": [
            "HELLO\n"
          ]
        }
      ]
    },
    {
      "cell_type": "code",
      "source": [
        "#5  Write a code to replace the word \"apple\" with \"orange\" in the string \"I like apple\"\n",
        "a = 'i like apple'\n",
        "print(a)\n",
        "b= a.replace('apple', 'orange')\n",
        "print(b)"
      ],
      "metadata": {
        "colab": {
          "base_uri": "https://localhost:8080/"
        },
        "id": "8FJvwyuSYHw-",
        "outputId": "12be2de4-f44e-4814-b08c-6f0abe3b9b2b"
      },
      "execution_count": 15,
      "outputs": [
        {
          "output_type": "stream",
          "name": "stdout",
          "text": [
            "i like apple\n",
            "i like orange\n"
          ]
        }
      ]
    },
    {
      "cell_type": "code",
      "source": [
        "#6.Write a code to create a list with numbers 1 to 5 and print it\n",
        "my_list= [1,2.3,4,5]\n",
        "print('list from 1 to 5:',my_list)"
      ],
      "metadata": {
        "colab": {
          "base_uri": "https://localhost:8080/"
        },
        "id": "IR0QL6D5Yj92",
        "outputId": "4958f569-99fe-4969-f0fc-4ae824f3e5a5"
      },
      "execution_count": 19,
      "outputs": [
        {
          "output_type": "stream",
          "name": "stdout",
          "text": [
            "list from 1 to 5: [1, 2.3, 4, 5]\n"
          ]
        }
      ]
    },
    {
      "cell_type": "code",
      "source": [
        "#7. Write a code to append the number 10 to the list\n",
        "a= [1, 2, 3, 4]\n",
        "print(a)\n",
        "a.append(10)\n",
        "print(a)"
      ],
      "metadata": {
        "colab": {
          "base_uri": "https://localhost:8080/"
        },
        "id": "U8aoNt4xZX2G",
        "outputId": "edd5f6bb-404f-4dfb-c3a0-9542df75e100"
      },
      "execution_count": 21,
      "outputs": [
        {
          "output_type": "stream",
          "name": "stdout",
          "text": [
            "[1, 2, 3, 4]\n",
            "[1, 2, 3, 4, 10]\n"
          ]
        }
      ]
    },
    {
      "cell_type": "code",
      "source": [
        "#8. Write a code to remove the number 3 from the list [1, 2, 3, 4, 5]\n",
        "a= [1, 2, 3, 4, 5]\n",
        "print(a)\n",
        "a.remove(3)\n",
        "print(a)"
      ],
      "metadata": {
        "colab": {
          "base_uri": "https://localhost:8080/"
        },
        "id": "k4gNjkJfZsn-",
        "outputId": "35cacc60-3d38-4536-e679-538c8b35f057"
      },
      "execution_count": 22,
      "outputs": [
        {
          "output_type": "stream",
          "name": "stdout",
          "text": [
            "[1, 2, 3, 4, 5]\n",
            "[1, 2, 4, 5]\n"
          ]
        }
      ]
    },
    {
      "cell_type": "code",
      "source": [
        "#9.Write a code to access the second element in the list ['a', 'b', 'c', 'd']\n",
        "my_list = ['a', 'b', 'c', 'd']\n",
        "print(my_list)\n",
        "print(my_list[1])"
      ],
      "metadata": {
        "colab": {
          "base_uri": "https://localhost:8080/"
        },
        "id": "wWKr0OjVZ7ZO",
        "outputId": "cace8832-9625-4547-e0cb-342ad3b106b3"
      },
      "execution_count": 24,
      "outputs": [
        {
          "output_type": "stream",
          "name": "stdout",
          "text": [
            "['a', 'b', 'c', 'd']\n",
            "b\n"
          ]
        }
      ]
    },
    {
      "cell_type": "code",
      "source": [
        "#10.Write a code to reverse the list [10, 20, 30, 40, 50].\n",
        "a= [10, 20, 30, 40, 50]\n",
        "print(a)\n",
        "print(a[::-1])"
      ],
      "metadata": {
        "colab": {
          "base_uri": "https://localhost:8080/"
        },
        "id": "ONiMXdzTaLW2",
        "outputId": "783a67da-81c5-4cc2-ed54-800dc95a676d"
      },
      "execution_count": 33,
      "outputs": [
        {
          "output_type": "stream",
          "name": "stdout",
          "text": [
            "[10, 20, 30, 40, 50]\n",
            "[50, 40, 30, 20, 10]\n"
          ]
        }
      ]
    },
    {
      "cell_type": "code",
      "source": [
        "#11. Write a code to create a tuple with the elements 100, 200, 300 and print it.\n",
        "a= (100,200,300)\n",
        "print(type(a))\n",
        "print(a)"
      ],
      "metadata": {
        "colab": {
          "base_uri": "https://localhost:8080/"
        },
        "id": "NK_LAQiTcC22",
        "outputId": "a6a5718d-57d5-461a-c982-468e99aaf0c7"
      },
      "execution_count": 34,
      "outputs": [
        {
          "output_type": "stream",
          "name": "stdout",
          "text": [
            "<class 'tuple'>\n",
            "(100, 200, 300)\n"
          ]
        }
      ]
    },
    {
      "cell_type": "code",
      "source": [
        "#12. Write a code to access the second-to-last element of the tuple ('red', 'green', 'blue', 'yellow').\n",
        "a= ('red', 'green', 'blue', 'yellow')\n",
        "print(a)\n",
        "print(a[1:])"
      ],
      "metadata": {
        "colab": {
          "base_uri": "https://localhost:8080/"
        },
        "id": "ZhzzNPHKcUe1",
        "outputId": "e539189c-5bc3-4379-b192-7ff831bd0f82"
      },
      "execution_count": 36,
      "outputs": [
        {
          "output_type": "stream",
          "name": "stdout",
          "text": [
            "('red', 'green', 'blue', 'yellow')\n",
            "('green', 'blue', 'yellow')\n"
          ]
        }
      ]
    },
    {
      "cell_type": "code",
      "source": [
        "# 13. Write a code to find the minimum number in the tuple (10, 20, 5, 15).\n",
        "my_tuple = (10, 20, 5, 15)\n",
        "print(my_tuple)\n",
        "print('minimum number of this tuple is :', min(my_tuple))\n",
        "\n"
      ],
      "metadata": {
        "colab": {
          "base_uri": "https://localhost:8080/"
        },
        "id": "bEA96Q8vc7my",
        "outputId": "669fd212-0e75-4acf-c1b7-215fe4454249"
      },
      "execution_count": 41,
      "outputs": [
        {
          "output_type": "stream",
          "name": "stdout",
          "text": [
            "(10, 20, 5, 15)\n",
            "minimum number of this tuple is : 5\n"
          ]
        }
      ]
    },
    {
      "cell_type": "code",
      "source": [
        "#14. Write a code to find the index of the element \"cat\" in the tuple ('dog', 'cat', 'rabbit').\n",
        "a= ('dog', 'cat', 'rabbit')\n",
        "print(a)\n",
        "print(a.index('cat'))\n"
      ],
      "metadata": {
        "colab": {
          "base_uri": "https://localhost:8080/"
        },
        "id": "KPAecAIkddz2",
        "outputId": "ea734758-9ba0-4479-ec54-af906a4fc30c"
      },
      "execution_count": 42,
      "outputs": [
        {
          "output_type": "stream",
          "name": "stdout",
          "text": [
            "('dog', 'cat', 'rabbit')\n",
            "1\n"
          ]
        }
      ]
    },
    {
      "cell_type": "code",
      "source": [
        "# 15. Write a code to create a tuple containing three different fruits and check if \"kiwi\" is in it.\n",
        "a=('mango','litchi','banana')\n",
        "print(a)\n",
        "print('kiwi' in a )"
      ],
      "metadata": {
        "colab": {
          "base_uri": "https://localhost:8080/"
        },
        "id": "SYSkLOymfaf1",
        "outputId": "3b73bc19-5df0-4932-901b-4a46ba18df69"
      },
      "execution_count": 44,
      "outputs": [
        {
          "output_type": "stream",
          "name": "stdout",
          "text": [
            "('mango', 'litchi', 'banana')\n",
            "False\n"
          ]
        }
      ]
    },
    {
      "cell_type": "code",
      "source": [
        "#16.  Write a code to create a set with the elements 'a', 'b', 'c' and print it.\n",
        "my_set = {'a','b','c'}\n",
        "print(type(my_set))\n",
        "print(my_set)"
      ],
      "metadata": {
        "colab": {
          "base_uri": "https://localhost:8080/"
        },
        "id": "CUue077Kf5Sd",
        "outputId": "4fc7583b-6509-442e-ea38-6bc5db91b97c"
      },
      "execution_count": 45,
      "outputs": [
        {
          "output_type": "stream",
          "name": "stdout",
          "text": [
            "<class 'set'>\n",
            "{'c', 'a', 'b'}\n"
          ]
        }
      ]
    },
    {
      "cell_type": "code",
      "source": [
        "#17. Write a code to clear all elements from the set {1, 2, 3, 4, 5}.\n",
        "my_set={1, 2, 3, 4, 5}\n",
        "print(my_set)\n",
        "my_set.clear()\n",
        "print(my_set)"
      ],
      "metadata": {
        "colab": {
          "base_uri": "https://localhost:8080/"
        },
        "id": "q2pCGTS8gT8l",
        "outputId": "b647c799-9e93-441d-e88c-264e703a954c"
      },
      "execution_count": 46,
      "outputs": [
        {
          "output_type": "stream",
          "name": "stdout",
          "text": [
            "{1, 2, 3, 4, 5}\n",
            "set()\n"
          ]
        }
      ]
    },
    {
      "cell_type": "code",
      "source": [
        "#18.  Write a code to remove the element 4 from the set {1, 2, 3, 4}.\n",
        "a= {1, 2, 3, 4}\n",
        "print(a)\n",
        "a.remove(4)\n",
        "print(a)"
      ],
      "metadata": {
        "colab": {
          "base_uri": "https://localhost:8080/"
        },
        "id": "LKZvGp5ygxUV",
        "outputId": "70ea8218-e937-4cfe-e48f-f1517aa6f568"
      },
      "execution_count": 47,
      "outputs": [
        {
          "output_type": "stream",
          "name": "stdout",
          "text": [
            "{1, 2, 3, 4}\n",
            "{1, 2, 3}\n"
          ]
        }
      ]
    },
    {
      "cell_type": "code",
      "source": [
        "#19. Write a code to find the union of two sets {1, 2, 3} and {3, 4, 5}.\n",
        "set1 = {1, 2, 3}\n",
        "set2 = {3, 4, 5}\n",
        "union_set = set1.union(set2)  # Find the union of the two sets\n",
        "print(union_set)\n"
      ],
      "metadata": {
        "colab": {
          "base_uri": "https://localhost:8080/"
        },
        "id": "QnhoZ6Y2hCtV",
        "outputId": "e076ea4d-5e5d-45a2-d9c3-f064af5a0dd4"
      },
      "execution_count": 48,
      "outputs": [
        {
          "output_type": "stream",
          "name": "stdout",
          "text": [
            "{1, 2, 3, 4, 5}\n"
          ]
        }
      ]
    },
    {
      "cell_type": "code",
      "source": [
        "# 20. Write a code to find the intersection of two sets {1, 2, 3} and {2, 3, 4}.\n",
        "set1 = {1, 2, 3}\n",
        "set2 = {2, 3, 4}\n",
        "intersection_set = set1.intersection(set2)  # Find the intersection of the two sets\n",
        "print(intersection_set)\n"
      ],
      "metadata": {
        "colab": {
          "base_uri": "https://localhost:8080/"
        },
        "id": "3zbfObS4hYnl",
        "outputId": "87ca05fa-d243-4b5d-ced1-2b701cb26143"
      },
      "execution_count": 49,
      "outputs": [
        {
          "output_type": "stream",
          "name": "stdout",
          "text": [
            "{2, 3}\n"
          ]
        }
      ]
    },
    {
      "cell_type": "code",
      "source": [
        "#21. Write a code to create a dictionary with the keys \"name\", \"age\", and \"city\", and print it.\n",
        "my_dict= {\n",
        "    'name': 'Debojyoti',\n",
        "    'age': 21,\n",
        "    'city': 'Balurghat'\n",
        "}\n",
        "print(type(my_dict))\n",
        "print(my_dict)"
      ],
      "metadata": {
        "colab": {
          "base_uri": "https://localhost:8080/"
        },
        "id": "0cfiP4Aah4zN",
        "outputId": "2d0fcfae-c0fc-4a4f-9d3c-d671cbecc485"
      },
      "execution_count": 53,
      "outputs": [
        {
          "output_type": "stream",
          "name": "stdout",
          "text": [
            "<class 'dict'>\n",
            "{'name': 'Debojyoti', 'age': 21, 'city': 'Balurghat'}\n"
          ]
        }
      ]
    },
    {
      "cell_type": "code",
      "source": [
        "# 22. Write a code to add a new key-value pair \"country\": \"USA\" to the dictionary {'name': 'John', 'age': 25}.\n",
        "a= {'name': 'John', 'age': 25}\n",
        "a['country'] = 'USA'\n",
        "print(a)"
      ],
      "metadata": {
        "colab": {
          "base_uri": "https://localhost:8080/"
        },
        "id": "neWdux2Ci7M9",
        "outputId": "38b30739-9cf3-48d5-8638-2c0fa645cf7b"
      },
      "execution_count": 55,
      "outputs": [
        {
          "output_type": "stream",
          "name": "stdout",
          "text": [
            "{'name': 'John', 'age': 25, 'country': 'USA'}\n"
          ]
        }
      ]
    },
    {
      "cell_type": "code",
      "source": [
        "#23.. Write a code to access the value associated with the key \"name\" in the dictionary {'name': 'Alice', 'age': 30}.\n",
        "a={'name': 'Alice', 'age': 30}\n",
        "print(a[\"name\"])"
      ],
      "metadata": {
        "colab": {
          "base_uri": "https://localhost:8080/"
        },
        "id": "JgZfDN4nk7Hu",
        "outputId": "ad79947f-36c4-4874-8f0d-2d3c4d279041"
      },
      "execution_count": 60,
      "outputs": [
        {
          "output_type": "stream",
          "name": "stdout",
          "text": [
            "Alice\n"
          ]
        }
      ]
    },
    {
      "cell_type": "code",
      "source": [
        "#24.Write a code to remove the key \"age\" from the dictionary {'name': 'Bob', 'age': 22, 'city': 'New York'}.\n",
        "a= {'name': 'Bob', 'age': 22, 'city': 'New York'}\n",
        "print(a)\n",
        "del a['age']\n",
        "print(a)"
      ],
      "metadata": {
        "colab": {
          "base_uri": "https://localhost:8080/"
        },
        "id": "x1607M7-lfgN",
        "outputId": "94c581c7-e526-442a-d707-89a01de2e28f"
      },
      "execution_count": 61,
      "outputs": [
        {
          "output_type": "stream",
          "name": "stdout",
          "text": [
            "{'name': 'Bob', 'age': 22, 'city': 'New York'}\n",
            "{'name': 'Bob', 'city': 'New York'}\n"
          ]
        }
      ]
    },
    {
      "cell_type": "code",
      "source": [
        "#25. Write a code to check if the key \"city\" exists in the dictionary {'name': 'Alice', 'city': 'Paris'}.\n",
        "a= {'name': 'Alice', 'city': 'Paris'}\n",
        "print('city'in a)"
      ],
      "metadata": {
        "colab": {
          "base_uri": "https://localhost:8080/"
        },
        "id": "8YUYsA-UlhjV",
        "outputId": "17cba785-3da4-417a-ba53-930ea82715c0"
      },
      "execution_count": 62,
      "outputs": [
        {
          "output_type": "stream",
          "name": "stdout",
          "text": [
            "True\n"
          ]
        }
      ]
    },
    {
      "cell_type": "code",
      "source": [
        "#26. Write a code to create a list, a tuple, and a dictionary, and print them all\n",
        "# Creating a list, tuple, and dictionary\n",
        "my_list = [1, 2, 3, 4, 5]\n",
        "my_tuple = ('apple', 'banana', 'cherry')\n",
        "my_dict = {'name': 'Alice', 'age': 30, 'city': 'New York'}\n",
        "\n",
        "# Printing the list, tuple, and dictionary\n",
        "print(\"List:\", my_list)\n",
        "print(\"Tuple:\", my_tuple)\n",
        "print(\"Dictionary:\", my_dict)\n"
      ],
      "metadata": {
        "colab": {
          "base_uri": "https://localhost:8080/"
        },
        "id": "ZAohHcDSmOqd",
        "outputId": "628d4272-3bea-4a2c-f5f9-9816eb8afdf5"
      },
      "execution_count": 63,
      "outputs": [
        {
          "output_type": "stream",
          "name": "stdout",
          "text": [
            "List: [1, 2, 3, 4, 5]\n",
            "Tuple: ('apple', 'banana', 'cherry')\n",
            "Dictionary: {'name': 'Alice', 'age': 30, 'city': 'New York'}\n"
          ]
        }
      ]
    },
    {
      "cell_type": "code",
      "source": [
        "#27. Write a code to create a list of 5 random numbers between 1 and 100, sort it in ascending order, and print the result.(replaced)\n",
        "import random\n",
        "\n",
        "# Generate a list of 5 random numbers between 1 and 100\n",
        "random_numbers = [random.randint(1, 100) for _ in range(5)]\n",
        "\n",
        "# Sort the list in ascending order\n",
        "random_numbers.sort()\n",
        "\n",
        "# Print the sorted list\n",
        "print(random_numbers)\n"
      ],
      "metadata": {
        "colab": {
          "base_uri": "https://localhost:8080/"
        },
        "id": "o5B_YHfMmhwF",
        "outputId": "a318b0e1-1a5e-4b30-bd0e-ded929908cb5"
      },
      "execution_count": 65,
      "outputs": [
        {
          "output_type": "stream",
          "name": "stdout",
          "text": [
            "[37, 60, 68, 74, 77]\n"
          ]
        }
      ]
    },
    {
      "cell_type": "code",
      "source": [
        "#28.Write a code to create a list with strings and print the element at the third index.\n",
        "# Creating a list with strings\n",
        "my_list = [\"apple\", \"banana\", \"cherry\", \"date\", \"elderberry\"]\n",
        "\n",
        "# Printing the element at the third index (4th element)\n",
        "print(my_list[3])\n"
      ],
      "metadata": {
        "colab": {
          "base_uri": "https://localhost:8080/"
        },
        "id": "NVx_pzBhnHMc",
        "outputId": "a2a2769e-0fc5-4d0a-ea60-298e70541151"
      },
      "execution_count": 66,
      "outputs": [
        {
          "output_type": "stream",
          "name": "stdout",
          "text": [
            "date\n"
          ]
        }
      ]
    },
    {
      "cell_type": "code",
      "source": [
        "#29. Write a code to combine two dictionaries into one and print the result.\n",
        "# Creating two dictionaries\n",
        "dict1 = {'a': 1, 'b': 2}\n",
        "dict2 = {'c': 3, 'd': 4}\n",
        "\n",
        "# Merging dictionaries using |\n",
        "combined_dict = dict1 | dict2\n",
        "\n",
        "# Printing the result\n",
        "print(combined_dict)\n"
      ],
      "metadata": {
        "colab": {
          "base_uri": "https://localhost:8080/"
        },
        "id": "uq5ie1vLnp1k",
        "outputId": "3b4daeac-cc41-475a-98b6-c779d55de95c"
      },
      "execution_count": 67,
      "outputs": [
        {
          "output_type": "stream",
          "name": "stdout",
          "text": [
            "{'a': 1, 'b': 2, 'c': 3, 'd': 4}\n"
          ]
        }
      ]
    },
    {
      "cell_type": "code",
      "source": [
        "#30. Write a code to convert a list of strings into a set.\n",
        "# Creating a list of strings\n",
        "my_list = [\"apple\", \"banana\", \"cherry\", \"apple\", \"banana\"]\n",
        "\n",
        "# Converting the list into a set\n",
        "my_set = set(my_list)\n",
        "\n",
        "# Printing the set\n",
        "print(my_set)"
      ],
      "metadata": {
        "colab": {
          "base_uri": "https://localhost:8080/"
        },
        "id": "qgmmwbAGn8ZV",
        "outputId": "60d15738-5dac-40b1-c2d6-bba5e96d6b78"
      },
      "execution_count": 68,
      "outputs": [
        {
          "output_type": "stream",
          "name": "stdout",
          "text": [
            "{'banana', 'cherry', 'apple'}\n"
          ]
        }
      ]
    }
  ]
}